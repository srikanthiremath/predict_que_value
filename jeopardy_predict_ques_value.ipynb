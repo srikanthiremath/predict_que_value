{
 "cells": [
  {
   "cell_type": "code",
   "execution_count": 1,
   "metadata": {},
   "outputs": [],
   "source": [
    "import pandas as pd\n",
    "data=pd.read_csv('C:/Users/SRIKANT/Downloads/archive/JEOPARDY_CSV.csv')"
   ]
  },
  {
   "cell_type": "code",
   "execution_count": 2,
   "metadata": {},
   "outputs": [
    {
     "data": {
      "text/plain": [
       "array(['$200', '$400', '$600', '$800', '$2,000', '$1000', '$1200',\n",
       "       '$1600', '$2000', '$3,200', 'None', '$5,000', '$100', '$300',\n",
       "       '$500', '$1,000', '$1,500', '$1,200', '$4,800', '$1,800', '$1,100',\n",
       "       '$2,200', '$3,400', '$3,000', '$4,000', '$1,600', '$6,800',\n",
       "       '$1,900', '$3,100', '$700', '$1,400', '$2,800', '$8,000', '$6,000',\n",
       "       '$2,400', '$12,000', '$3,800', '$2,500', '$6,200', '$10,000',\n",
       "       '$7,000', '$1,492', '$7,400', '$1,300', '$7,200', '$2,600',\n",
       "       '$3,300', '$5,400', '$4,500', '$2,100', '$900', '$3,600', '$2,127',\n",
       "       '$367', '$4,400', '$3,500', '$2,900', '$3,900', '$4,100', '$4,600',\n",
       "       '$10,800', '$2,300', '$5,600', '$1,111', '$8,200', '$5,800',\n",
       "       '$750', '$7,500', '$1,700', '$9,000', '$6,100', '$1,020', '$4,700',\n",
       "       '$2,021', '$5,200', '$3,389', '$4,200', '$5', '$2,001', '$1,263',\n",
       "       '$4,637', '$3,201', '$6,600', '$3,700', '$2,990', '$5,500',\n",
       "       '$14,000', '$2,700', '$6,400', '$350', '$8,600', '$6,300', '$250',\n",
       "       '$3,989', '$8,917', '$9,500', '$1,246', '$6,435', '$8,800',\n",
       "       '$2,222', '$2,746', '$10,400', '$7,600', '$6,700', '$5,100',\n",
       "       '$13,200', '$4,300', '$1,407', '$12,400', '$5,401', '$7,800',\n",
       "       '$1,183', '$1,203', '$13,000', '$11,600', '$14,200', '$1,809',\n",
       "       '$8,400', '$8,700', '$11,000', '$5,201', '$1,801', '$3,499',\n",
       "       '$5,700', '$601', '$4,008', '$50', '$2,344', '$2,811', '$18,000',\n",
       "       '$1,777', '$3,599', '$9,800', '$796', '$3,150', '$20', '$1,810',\n",
       "       '$22', '$9,200', '$1,512', '$8,500', '$585', '$1,534', '$13,800',\n",
       "       '$5,001', '$4,238', '$16,400', '$1,347', '$2547', '$11,200'],\n",
       "      dtype=object)"
      ]
     },
     "execution_count": 2,
     "metadata": {},
     "output_type": "execute_result"
    }
   ],
   "source": [
    "data[' Value'].unique()"
   ]
  },
  {
   "cell_type": "code",
   "execution_count": 3,
   "metadata": {},
   "outputs": [],
   "source": [
    "#assigin unique values to the show number and air date using label encoder\n",
    "from sklearn.preprocessing import LabelEncoder\n",
    "encoder=LabelEncoder()\n",
    "data['Show Number']=encoder.fit_transform(data['Show Number'])\n",
    "data[' Air Date']=encoder.fit_transform(data[' Air Date'])"
   ]
  },
  {
   "cell_type": "code",
   "execution_count": 4,
   "metadata": {},
   "outputs": [
    {
     "data": {
      "text/html": [
       "<div>\n",
       "<style scoped>\n",
       "    .dataframe tbody tr th:only-of-type {\n",
       "        vertical-align: middle;\n",
       "    }\n",
       "\n",
       "    .dataframe tbody tr th {\n",
       "        vertical-align: top;\n",
       "    }\n",
       "\n",
       "    .dataframe thead th {\n",
       "        text-align: right;\n",
       "    }\n",
       "</style>\n",
       "<table border=\"1\" class=\"dataframe\">\n",
       "  <thead>\n",
       "    <tr style=\"text-align: right;\">\n",
       "      <th></th>\n",
       "      <th>Show Number</th>\n",
       "      <th>Air Date</th>\n",
       "      <th>Round</th>\n",
       "      <th>Category</th>\n",
       "      <th>Value</th>\n",
       "      <th>Question</th>\n",
       "      <th>Answer</th>\n",
       "      <th>Question_clean</th>\n",
       "      <th>Category_clean</th>\n",
       "      <th>Answer_clean</th>\n",
       "    </tr>\n",
       "  </thead>\n",
       "  <tbody>\n",
       "    <tr>\n",
       "      <th>0</th>\n",
       "      <td>2021</td>\n",
       "      <td>2021</td>\n",
       "      <td>Jeopardy!</td>\n",
       "      <td>HISTORY</td>\n",
       "      <td>$200</td>\n",
       "      <td>For the last 8 years of his life, Galileo was ...</td>\n",
       "      <td>Copernicus</td>\n",
       "      <td>For the last 8 years of his life Galileo was u...</td>\n",
       "      <td>HISTORY</td>\n",
       "      <td>Copernicus</td>\n",
       "    </tr>\n",
       "    <tr>\n",
       "      <th>1</th>\n",
       "      <td>2021</td>\n",
       "      <td>2021</td>\n",
       "      <td>Jeopardy!</td>\n",
       "      <td>ESPN's TOP 10 ALL-TIME ATHLETES</td>\n",
       "      <td>$200</td>\n",
       "      <td>No. 2: 1912 Olympian; football star at Carlisl...</td>\n",
       "      <td>Jim Thorpe</td>\n",
       "      <td>No 2 1912 Olympian; football star at Carlisle ...</td>\n",
       "      <td>ESPNs TOP 10 ALL-TIME ATHLETES</td>\n",
       "      <td>Jim Thorpe</td>\n",
       "    </tr>\n",
       "    <tr>\n",
       "      <th>2</th>\n",
       "      <td>2021</td>\n",
       "      <td>2021</td>\n",
       "      <td>Jeopardy!</td>\n",
       "      <td>EVERYBODY TALKS ABOUT IT...</td>\n",
       "      <td>$200</td>\n",
       "      <td>The city of Yuma in this state has a record av...</td>\n",
       "      <td>Arizona</td>\n",
       "      <td>The city of Yuma in this state has a record av...</td>\n",
       "      <td>EVERYBODY TALKS ABOUT IT</td>\n",
       "      <td>Arizona</td>\n",
       "    </tr>\n",
       "    <tr>\n",
       "      <th>3</th>\n",
       "      <td>2021</td>\n",
       "      <td>2021</td>\n",
       "      <td>Jeopardy!</td>\n",
       "      <td>THE COMPANY LINE</td>\n",
       "      <td>$200</td>\n",
       "      <td>In 1963, live on \"The Art Linkletter Show\", th...</td>\n",
       "      <td>McDonald's</td>\n",
       "      <td>In 1963 live on \"The Art Linkletter Show\" this...</td>\n",
       "      <td>THE COMPANY LINE</td>\n",
       "      <td>McDonalds</td>\n",
       "    </tr>\n",
       "    <tr>\n",
       "      <th>4</th>\n",
       "      <td>2021</td>\n",
       "      <td>2021</td>\n",
       "      <td>Jeopardy!</td>\n",
       "      <td>EPITAPHS &amp; TRIBUTES</td>\n",
       "      <td>$200</td>\n",
       "      <td>Signer of the Dec. of Indep., framer of the Co...</td>\n",
       "      <td>John Adams</td>\n",
       "      <td>Signer of the Dec of Indep framer of the Const...</td>\n",
       "      <td>EPITAPHS  TRIBUTES</td>\n",
       "      <td>John Adams</td>\n",
       "    </tr>\n",
       "    <tr>\n",
       "      <th>...</th>\n",
       "      <td>...</td>\n",
       "      <td>...</td>\n",
       "      <td>...</td>\n",
       "      <td>...</td>\n",
       "      <td>...</td>\n",
       "      <td>...</td>\n",
       "      <td>...</td>\n",
       "      <td>...</td>\n",
       "      <td>...</td>\n",
       "      <td>...</td>\n",
       "    </tr>\n",
       "    <tr>\n",
       "      <th>216925</th>\n",
       "      <td>2340</td>\n",
       "      <td>2340</td>\n",
       "      <td>Double Jeopardy!</td>\n",
       "      <td>RIDDLE ME THIS</td>\n",
       "      <td>$2000</td>\n",
       "      <td>This Puccini opera turns on the solution to 3 ...</td>\n",
       "      <td>Turandot</td>\n",
       "      <td>This Puccini opera turns on the solution to 3 ...</td>\n",
       "      <td>RIDDLE ME THIS</td>\n",
       "      <td>Turandot</td>\n",
       "    </tr>\n",
       "    <tr>\n",
       "      <th>216926</th>\n",
       "      <td>2340</td>\n",
       "      <td>2340</td>\n",
       "      <td>Double Jeopardy!</td>\n",
       "      <td>\"T\" BIRDS</td>\n",
       "      <td>$2000</td>\n",
       "      <td>In North America this term is properly applied...</td>\n",
       "      <td>a titmouse</td>\n",
       "      <td>In North America this term is properly applied...</td>\n",
       "      <td>\"T\" BIRDS</td>\n",
       "      <td>a titmouse</td>\n",
       "    </tr>\n",
       "    <tr>\n",
       "      <th>216927</th>\n",
       "      <td>2340</td>\n",
       "      <td>2340</td>\n",
       "      <td>Double Jeopardy!</td>\n",
       "      <td>AUTHORS IN THEIR YOUTH</td>\n",
       "      <td>$2000</td>\n",
       "      <td>In Penny Lane, where this \"Hellraiser\" grew up...</td>\n",
       "      <td>Clive Barker</td>\n",
       "      <td>In Penny Lane where this \"Hellraiser\" grew up ...</td>\n",
       "      <td>AUTHORS IN THEIR YOUTH</td>\n",
       "      <td>Clive Barker</td>\n",
       "    </tr>\n",
       "    <tr>\n",
       "      <th>216928</th>\n",
       "      <td>2340</td>\n",
       "      <td>2340</td>\n",
       "      <td>Double Jeopardy!</td>\n",
       "      <td>QUOTATIONS</td>\n",
       "      <td>$2000</td>\n",
       "      <td>From Ft. Sill, Okla. he made the plea, Arizona...</td>\n",
       "      <td>Geronimo</td>\n",
       "      <td>From Ft Sill Okla he made the plea Arizona is ...</td>\n",
       "      <td>QUOTATIONS</td>\n",
       "      <td>Geronimo</td>\n",
       "    </tr>\n",
       "    <tr>\n",
       "      <th>216929</th>\n",
       "      <td>2340</td>\n",
       "      <td>2340</td>\n",
       "      <td>Final Jeopardy!</td>\n",
       "      <td>HISTORIC NAMES</td>\n",
       "      <td>None</td>\n",
       "      <td>A silent movie title includes the last name of...</td>\n",
       "      <td>Grigori Alexandrovich Potemkin</td>\n",
       "      <td>A silent movie title includes the last name of...</td>\n",
       "      <td>HISTORIC NAMES</td>\n",
       "      <td>Grigori Alexandrovich Potemkin</td>\n",
       "    </tr>\n",
       "  </tbody>\n",
       "</table>\n",
       "<p>216930 rows × 10 columns</p>\n",
       "</div>"
      ],
      "text/plain": [
       "        Show Number   Air Date             Round  \\\n",
       "0              2021       2021         Jeopardy!   \n",
       "1              2021       2021         Jeopardy!   \n",
       "2              2021       2021         Jeopardy!   \n",
       "3              2021       2021         Jeopardy!   \n",
       "4              2021       2021         Jeopardy!   \n",
       "...             ...        ...               ...   \n",
       "216925         2340       2340  Double Jeopardy!   \n",
       "216926         2340       2340  Double Jeopardy!   \n",
       "216927         2340       2340  Double Jeopardy!   \n",
       "216928         2340       2340  Double Jeopardy!   \n",
       "216929         2340       2340   Final Jeopardy!   \n",
       "\n",
       "                               Category  Value  \\\n",
       "0                               HISTORY   $200   \n",
       "1       ESPN's TOP 10 ALL-TIME ATHLETES   $200   \n",
       "2           EVERYBODY TALKS ABOUT IT...   $200   \n",
       "3                      THE COMPANY LINE   $200   \n",
       "4                   EPITAPHS & TRIBUTES   $200   \n",
       "...                                 ...    ...   \n",
       "216925                   RIDDLE ME THIS  $2000   \n",
       "216926                        \"T\" BIRDS  $2000   \n",
       "216927           AUTHORS IN THEIR YOUTH  $2000   \n",
       "216928                       QUOTATIONS  $2000   \n",
       "216929                   HISTORIC NAMES   None   \n",
       "\n",
       "                                                 Question  \\\n",
       "0       For the last 8 years of his life, Galileo was ...   \n",
       "1       No. 2: 1912 Olympian; football star at Carlisl...   \n",
       "2       The city of Yuma in this state has a record av...   \n",
       "3       In 1963, live on \"The Art Linkletter Show\", th...   \n",
       "4       Signer of the Dec. of Indep., framer of the Co...   \n",
       "...                                                   ...   \n",
       "216925  This Puccini opera turns on the solution to 3 ...   \n",
       "216926  In North America this term is properly applied...   \n",
       "216927  In Penny Lane, where this \"Hellraiser\" grew up...   \n",
       "216928  From Ft. Sill, Okla. he made the plea, Arizona...   \n",
       "216929  A silent movie title includes the last name of...   \n",
       "\n",
       "                                Answer  \\\n",
       "0                           Copernicus   \n",
       "1                           Jim Thorpe   \n",
       "2                              Arizona   \n",
       "3                           McDonald's   \n",
       "4                           John Adams   \n",
       "...                                ...   \n",
       "216925                        Turandot   \n",
       "216926                      a titmouse   \n",
       "216927                    Clive Barker   \n",
       "216928                        Geronimo   \n",
       "216929  Grigori Alexandrovich Potemkin   \n",
       "\n",
       "                                           Question_clean  \\\n",
       "0       For the last 8 years of his life Galileo was u...   \n",
       "1       No 2 1912 Olympian; football star at Carlisle ...   \n",
       "2       The city of Yuma in this state has a record av...   \n",
       "3       In 1963 live on \"The Art Linkletter Show\" this...   \n",
       "4       Signer of the Dec of Indep framer of the Const...   \n",
       "...                                                   ...   \n",
       "216925  This Puccini opera turns on the solution to 3 ...   \n",
       "216926  In North America this term is properly applied...   \n",
       "216927  In Penny Lane where this \"Hellraiser\" grew up ...   \n",
       "216928  From Ft Sill Okla he made the plea Arizona is ...   \n",
       "216929  A silent movie title includes the last name of...   \n",
       "\n",
       "                        Category_clean                    Answer_clean  \n",
       "0                              HISTORY                      Copernicus  \n",
       "1       ESPNs TOP 10 ALL-TIME ATHLETES                      Jim Thorpe  \n",
       "2             EVERYBODY TALKS ABOUT IT                         Arizona  \n",
       "3                     THE COMPANY LINE                       McDonalds  \n",
       "4                   EPITAPHS  TRIBUTES                      John Adams  \n",
       "...                                ...                             ...  \n",
       "216925                  RIDDLE ME THIS                        Turandot  \n",
       "216926                       \"T\" BIRDS                      a titmouse  \n",
       "216927          AUTHORS IN THEIR YOUTH                    Clive Barker  \n",
       "216928                      QUOTATIONS                        Geronimo  \n",
       "216929                  HISTORIC NAMES  Grigori Alexandrovich Potemkin  \n",
       "\n",
       "[216930 rows x 10 columns]"
      ]
     },
     "execution_count": 4,
     "metadata": {},
     "output_type": "execute_result"
    }
   ],
   "source": [
    "#cleaning all texts by removering special chars except \"\"(double quotes) , because double qoutes might provide import info\n",
    "import re\n",
    "def  clean_text(df, text_field, new_text_field_name):\n",
    "    df[new_text_field_name] = df[text_field]#.str.lower()\n",
    "    df[new_text_field_name]=df[new_text_field_name].str.replace('[!@#$%^&*(),.?:{}|<>\\']','',regex=True)\n",
    "    \n",
    "    return df\n",
    "\n",
    "data1=clean_text(data, ' Question', 'Question_clean')\n",
    "data1=clean_text(data1, ' Category', 'Category_clean')\n",
    "data1[' Answer']=data1[' Answer'].astype(str)\n",
    "data1=clean_text(data1, ' Answer', 'Answer_clean')\n",
    "data1"
   ]
  },
  {
   "cell_type": "code",
   "execution_count": 5,
   "metadata": {},
   "outputs": [],
   "source": [
    "data1[' Value']=data1[' Value'].str.replace('$','').str.replace(',','')#.str.replace('None','0')\n"
   ]
  },
  {
   "cell_type": "code",
   "execution_count": 6,
   "metadata": {},
   "outputs": [
    {
     "data": {
      "text/plain": [
       "0          200\n",
       "1          200\n",
       "2          200\n",
       "3          200\n",
       "4          200\n",
       "          ... \n",
       "216924    2000\n",
       "216925    2000\n",
       "216926    2000\n",
       "216927    2000\n",
       "216928    2000\n",
       "Name:  Value, Length: 213296, dtype: int32"
      ]
     },
     "execution_count": 6,
     "metadata": {},
     "output_type": "execute_result"
    }
   ],
   "source": [
    "#as we know for tiebreaker and final breaker value will be None hence remove values with None \n",
    "data1=data1[data1[' Value']!='None']\n",
    "data1[' Value'].astype(int)"
   ]
  },
  {
   "cell_type": "code",
   "execution_count": 65,
   "metadata": {},
   "outputs": [],
   "source": [
    "#copying the df , just to backtrack incase of any error\n",
    "data2=data1#.drop([' Air Date'],axis=1)"
   ]
  },
  {
   "cell_type": "code",
   "execution_count": 66,
   "metadata": {},
   "outputs": [
    {
     "name": "stderr",
     "output_type": "stream",
     "text": [
      "C:\\Users\\SRIKANT\\anaconda3\\lib\\site-packages\\ipykernel_launcher.py:1: SettingWithCopyWarning: \n",
      "A value is trying to be set on a copy of a slice from a DataFrame.\n",
      "Try using .loc[row_indexer,col_indexer] = value instead\n",
      "\n",
      "See the caveats in the documentation: https://pandas.pydata.org/pandas-docs/stable/user_guide/indexing.html#returning-a-view-versus-a-copy\n",
      "  \"\"\"Entry point for launching an IPython kernel.\n"
     ]
    }
   ],
   "source": [
    "data2[' Round']=data2[' Round'].str.replace('!','').str.lower()"
   ]
  },
  {
   "cell_type": "code",
   "execution_count": 67,
   "metadata": {},
   "outputs": [],
   "source": [
    "from nltk.corpus import stopwords \n",
    "from nltk.tokenize import word_tokenize \n",
    "  "
   ]
  },
  {
   "cell_type": "code",
   "execution_count": 69,
   "metadata": {},
   "outputs": [],
   "source": [
    "#expand the words from question and category \n",
    "contractions_dict = { \n",
    "\"ain't\": \"am not / are not / is not / has not / have not\",\n",
    "\"aren't\": \"are not / am not\",\n",
    "\"can't\": \"cannot\",\n",
    "\"can't've\": \"cannot have\",\n",
    "\"'cause\": \"because\",\n",
    "\"could've\": \"could have\",\n",
    "\"couldn't\": \"could not\",\n",
    "\"couldn't've\": \"could not have\",\n",
    "\"didn't\": \"did not\",\n",
    "\"doesn't\": \"does not\",\n",
    "\"don't\": \"do not\",\n",
    "\"hadn't\": \"had not\",\n",
    "\"hadn't've\": \"had not have\",\n",
    "\"hasn't\": \"has not\",\n",
    "\"haven't\": \"have not\",\n",
    "\"he'd\": \"he had / he would\",\n",
    "\"he'd've\": \"he would have\",\n",
    "\"he'll\": \"he shall / he will\",\n",
    "\"he'll've\": \"he shall have / he will have\",\n",
    "\"he's\": \"he has / he is\",\n",
    "\"how'd\": \"how did\",\n",
    "\"how'd'y\": \"how do you\",\n",
    "\"how'll\": \"how will\",\n",
    "\"how's\": \"how has / how is / how does\",\n",
    "\"I'd\": \"I had / I would\",\n",
    "\"I'd've\": \"I would have\",\n",
    "\"I'll\": \"I shall / I will\",\n",
    "\"I'll've\": \"I shall have / I will have\",\n",
    "\"I'm\": \"I am\",\n",
    "\"I've\": \"I have\",\n",
    "\"isn't\": \"is not\",\n",
    "\"it'd\": \"it had / it would\",\n",
    "\"it'd've\": \"it would have\",\n",
    "\"it'll\": \"it shall / it will\",\n",
    "\"it'll've\": \"it shall have / it will have\",\n",
    "\"it's\": \"it has / it is\",\n",
    "\"let's\": \"let us\",\n",
    "\"ma'am\": \"madam\",\n",
    "\"mayn't\": \"may not\",\n",
    "\"might've\": \"might have\",\n",
    "\"mightn't\": \"might not\",\n",
    "\"mightn't've\": \"might not have\",\n",
    "\"must've\": \"must have\",\n",
    "\"mustn't\": \"must not\",\n",
    "\"mustn't've\": \"must not have\",\n",
    "\"needn't\": \"need not\",\n",
    "\"needn't've\": \"need not have\",\n",
    "\"o'clock\": \"of the clock\",\n",
    "\"oughtn't\": \"ought not\",\n",
    "\"oughtn't've\": \"ought not have\",\n",
    "\"shan't\": \"shall not\",\n",
    "\"sha'n't\": \"shall not\",\n",
    "\"shan't've\": \"shall not have\",\n",
    "\"she'd\": \"she had / she would\",\n",
    "\"she'd've\": \"she would have\",\n",
    "\"she'll\": \"she shall / she will\",\n",
    "\"she'll've\": \"she shall have / she will have\",\n",
    "\"she's\": \"she has / she is\",\n",
    "\"should've\": \"should have\",\n",
    "\"shouldn't\": \"should not\",\n",
    "\"shouldn't've\": \"should not have\",\n",
    "\"so've\": \"so have\",\n",
    "\"so's\": \"so as / so is\",\n",
    "\"that'd\": \"that would / that had\",\n",
    "\"that'd've\": \"that would have\",\n",
    "\"that's\": \"that has / that is\",\n",
    "\"there'd\": \"there had / there would\",\n",
    "\"there'd've\": \"there would have\",\n",
    "\"there's\": \"there has / there is\",\n",
    "\"they'd\": \"they had / they would\",\n",
    "\"they'd've\": \"they would have\",\n",
    "\"they'll\": \"they shall / they will\",\n",
    "\"they'll've\": \"they shall have / they will have\",\n",
    "\"they're\": \"they are\",\n",
    "\"they've\": \"they have\",\n",
    "\"to've\": \"to have\",\n",
    "\"wasn't\": \"was not\",\n",
    "\"we'd\": \"we had / we would\",\n",
    "\"we'd've\": \"we would have\",\n",
    "\"we'll\": \"we will\",\n",
    "\"we'll've\": \"we will have\",\n",
    "\"we're\": \"we are\",\n",
    "\"we've\": \"we have\",\n",
    "\"weren't\": \"were not\",\n",
    "\"what'll\": \"what shall / what will\",\n",
    "\"what'll've\": \"what shall have / what will have\",\n",
    "\"what're\": \"what are\",\n",
    "\"what's\": \"what has / what is\",\n",
    "\"what've\": \"what have\",\n",
    "\"when's\": \"when has / when is\",\n",
    "\"when've\": \"when have\",\n",
    "\"where'd\": \"where did\",\n",
    "\"where's\": \"where has / where is\",\n",
    "\"where've\": \"where have\",\n",
    "\"who'll\": \"who shall / who will\",\n",
    "\"who'll've\": \"who shall have / who will have\",\n",
    "\"who's\": \"who has / who is\",\n",
    "\"who've\": \"who have\",\n",
    "\"why's\": \"why has / why is\",\n",
    "\"why've\": \"why have\",\n",
    "\"will've\": \"will have\",\n",
    "\"won't\": \"will not\",\n",
    "\"won't've\": \"will not have\",\n",
    "\"would've\": \"would have\",\n",
    "\"wouldn't\": \"would not\",\n",
    "\"wouldn't've\": \"would not have\",\n",
    "\"y'all\": \"you all\",\n",
    "\"y'all'd\": \"you all would\",\n",
    "\"y'all'd've\": \"you all would have\",\n",
    "\"y'all're\": \"you all are\",\n",
    "\"y'all've\": \"you all have\",\n",
    "\"you'd\": \"you had / you would\",\n",
    "\"you'd've\": \"you would have\",\n",
    "\"you'll\": \"you shall / you will\",\n",
    "\"you'll've\": \"you shall have / you will have\",\n",
    "\"you're\": \"you are\",\n",
    "\"you've\": \"you have\"\n",
    "}"
   ]
  },
  {
   "cell_type": "code",
   "execution_count": 70,
   "metadata": {},
   "outputs": [
    {
     "name": "stderr",
     "output_type": "stream",
     "text": [
      "C:\\Users\\SRIKANT\\anaconda3\\lib\\site-packages\\ipykernel_launcher.py:9: SettingWithCopyWarning: \n",
      "A value is trying to be set on a copy of a slice from a DataFrame.\n",
      "Try using .loc[row_indexer,col_indexer] = value instead\n",
      "\n",
      "See the caveats in the documentation: https://pandas.pydata.org/pandas-docs/stable/user_guide/indexing.html#returning-a-view-versus-a-copy\n",
      "  if __name__ == '__main__':\n",
      "C:\\Users\\SRIKANT\\anaconda3\\lib\\site-packages\\ipykernel_launcher.py:10: SettingWithCopyWarning: \n",
      "A value is trying to be set on a copy of a slice from a DataFrame.\n",
      "Try using .loc[row_indexer,col_indexer] = value instead\n",
      "\n",
      "See the caveats in the documentation: https://pandas.pydata.org/pandas-docs/stable/user_guide/indexing.html#returning-a-view-versus-a-copy\n",
      "  # Remove the CWD from sys.path while we load stuff.\n"
     ]
    },
    {
     "data": {
      "text/plain": [
       "0                                HISTORY\n",
       "1         ESPNs TOP 10 ALL-TIME ATHLETES\n",
       "2               EVERYBODY TALKS ABOUT IT\n",
       "3                       THE COMPANY LINE\n",
       "4                     EPITAPHS  TRIBUTES\n",
       "                       ...              \n",
       "216924                      OFF-BROADWAY\n",
       "216925                    RIDDLE ME THIS\n",
       "216926                         \"T\" BIRDS\n",
       "216927            AUTHORS IN THEIR YOUTH\n",
       "216928                        QUOTATIONS\n",
       "Name: Category_clean, Length: 213296, dtype: object"
      ]
     },
     "execution_count": 70,
     "metadata": {},
     "output_type": "execute_result"
    }
   ],
   "source": [
    "import regex as re\n",
    "contractions_re = re.compile('(%s)' % '|'.join(contractions_dict.keys()))\n",
    "def expand_contractions(s, contractions_dict=contractions_dict):\n",
    "     def replace(match):\n",
    "        return contractions_dict[match.group(0)]\n",
    "     return contractions_re.sub(replace, s)\n",
    "\n",
    "\n",
    "data2['Question_clean']=data2['Question_clean'].apply(lambda x: expand_contractions(x) )\n",
    "data2['Category_clean']=data2['Category_clean'].apply(lambda x: expand_contractions(x) )\n",
    "data2['Category_clean']"
   ]
  },
  {
   "cell_type": "code",
   "execution_count": 72,
   "metadata": {},
   "outputs": [
    {
     "name": "stderr",
     "output_type": "stream",
     "text": [
      "C:\\Users\\SRIKANT\\anaconda3\\lib\\site-packages\\ipykernel_launcher.py:4: SettingWithCopyWarning: \n",
      "A value is trying to be set on a copy of a slice from a DataFrame.\n",
      "Try using .loc[row_indexer,col_indexer] = value instead\n",
      "\n",
      "See the caveats in the documentation: https://pandas.pydata.org/pandas-docs/stable/user_guide/indexing.html#returning-a-view-versus-a-copy\n",
      "  after removing the cwd from sys.path.\n",
      "C:\\Users\\SRIKANT\\anaconda3\\lib\\site-packages\\ipykernel_launcher.py:5: SettingWithCopyWarning: \n",
      "A value is trying to be set on a copy of a slice from a DataFrame.\n",
      "Try using .loc[row_indexer,col_indexer] = value instead\n",
      "\n",
      "See the caveats in the documentation: https://pandas.pydata.org/pandas-docs/stable/user_guide/indexing.html#returning-a-view-versus-a-copy\n",
      "  \"\"\"\n",
      "C:\\Users\\SRIKANT\\anaconda3\\lib\\site-packages\\ipykernel_launcher.py:6: SettingWithCopyWarning: \n",
      "A value is trying to be set on a copy of a slice from a DataFrame.\n",
      "Try using .loc[row_indexer,col_indexer] = value instead\n",
      "\n",
      "See the caveats in the documentation: https://pandas.pydata.org/pandas-docs/stable/user_guide/indexing.html#returning-a-view-versus-a-copy\n",
      "  \n",
      "C:\\Users\\SRIKANT\\anaconda3\\lib\\site-packages\\ipykernel_launcher.py:7: SettingWithCopyWarning: \n",
      "A value is trying to be set on a copy of a slice from a DataFrame.\n",
      "Try using .loc[row_indexer,col_indexer] = value instead\n",
      "\n",
      "See the caveats in the documentation: https://pandas.pydata.org/pandas-docs/stable/user_guide/indexing.html#returning-a-view-versus-a-copy\n",
      "  import sys\n"
     ]
    }
   ],
   "source": [
    "from nltk.stem import WordNetLemmatizer\n",
    "#token and lemmatize the words, im not removing stop words because we will lose important data specially from questions\n",
    "lemmatizer = WordNetLemmatizer()\n",
    "data2['Question_tokens'] = data2['Question_clean'].apply(lambda x: word_tokenize(x))\n",
    "data2['Question_tokens'] = data2['Question_tokens'].apply(lambda x:[lemmatizer.lemmatize(i) for i in x])\n",
    "data2['Category_tokens'] = data2['Category_clean'].apply(lambda x: word_tokenize(x))\n",
    "data2['Category_tokens'] = data2['Category_tokens'].apply(lambda x:[lemmatizer.lemmatize(i) for i in x])"
   ]
  },
  {
   "cell_type": "code",
   "execution_count": 73,
   "metadata": {},
   "outputs": [
    {
     "name": "stderr",
     "output_type": "stream",
     "text": [
      "C:\\Users\\SRIKANT\\anaconda3\\lib\\site-packages\\ipykernel_launcher.py:1: SettingWithCopyWarning: \n",
      "A value is trying to be set on a copy of a slice from a DataFrame.\n",
      "Try using .loc[row_indexer,col_indexer] = value instead\n",
      "\n",
      "See the caveats in the documentation: https://pandas.pydata.org/pandas-docs/stable/user_guide/indexing.html#returning-a-view-versus-a-copy\n",
      "  \"\"\"Entry point for launching an IPython kernel.\n",
      "C:\\Users\\SRIKANT\\anaconda3\\lib\\site-packages\\ipykernel_launcher.py:2: SettingWithCopyWarning: \n",
      "A value is trying to be set on a copy of a slice from a DataFrame.\n",
      "Try using .loc[row_indexer,col_indexer] = value instead\n",
      "\n",
      "See the caveats in the documentation: https://pandas.pydata.org/pandas-docs/stable/user_guide/indexing.html#returning-a-view-versus-a-copy\n",
      "  \n"
     ]
    }
   ],
   "source": [
    "data2['Answer_tokens'] = data2['Answer_clean'].apply(lambda x: word_tokenize(x))\n",
    "data2['Answer_tokens'] = data2['Answer_tokens'].apply(lambda x:[lemmatizer.lemmatize(i) for i in x])"
   ]
  },
  {
   "cell_type": "code",
   "execution_count": 74,
   "metadata": {},
   "outputs": [],
   "source": [
    "#if que is an image\n",
    "data2=data2[data2['Question_clean']!='']\n",
    "data2=data2[data2['Category_clean']!='  ']"
   ]
  },
  {
   "cell_type": "code",
   "execution_count": 75,
   "metadata": {},
   "outputs": [
    {
     "data": {
      "text/html": [
       "<div>\n",
       "<style scoped>\n",
       "    .dataframe tbody tr th:only-of-type {\n",
       "        vertical-align: middle;\n",
       "    }\n",
       "\n",
       "    .dataframe tbody tr th {\n",
       "        vertical-align: top;\n",
       "    }\n",
       "\n",
       "    .dataframe thead th {\n",
       "        text-align: right;\n",
       "    }\n",
       "</style>\n",
       "<table border=\"1\" class=\"dataframe\">\n",
       "  <thead>\n",
       "    <tr style=\"text-align: right;\">\n",
       "      <th></th>\n",
       "      <th>Show Number</th>\n",
       "      <th>Air Date</th>\n",
       "      <th>Round</th>\n",
       "      <th>Category</th>\n",
       "      <th>Value</th>\n",
       "      <th>Question</th>\n",
       "      <th>Answer</th>\n",
       "      <th>Question_clean</th>\n",
       "      <th>Category_clean</th>\n",
       "      <th>Answer_clean</th>\n",
       "      <th>Question_tokens</th>\n",
       "      <th>Category_tokens</th>\n",
       "      <th>Answer_tokens</th>\n",
       "    </tr>\n",
       "  </thead>\n",
       "  <tbody>\n",
       "    <tr>\n",
       "      <th>0</th>\n",
       "      <td>2021</td>\n",
       "      <td>2021</td>\n",
       "      <td>jeopardy</td>\n",
       "      <td>HISTORY</td>\n",
       "      <td>200</td>\n",
       "      <td>For the last 8 years of his life, Galileo was ...</td>\n",
       "      <td>Copernicus</td>\n",
       "      <td>For the last 8 years of his life Galileo was u...</td>\n",
       "      <td>HISTORY</td>\n",
       "      <td>Copernicus</td>\n",
       "      <td>[For, the, last, 8, year, of, his, life, Galil...</td>\n",
       "      <td>[HISTORY]</td>\n",
       "      <td>[Copernicus]</td>\n",
       "    </tr>\n",
       "    <tr>\n",
       "      <th>1</th>\n",
       "      <td>2021</td>\n",
       "      <td>2021</td>\n",
       "      <td>jeopardy</td>\n",
       "      <td>ESPN's TOP 10 ALL-TIME ATHLETES</td>\n",
       "      <td>200</td>\n",
       "      <td>No. 2: 1912 Olympian; football star at Carlisl...</td>\n",
       "      <td>Jim Thorpe</td>\n",
       "      <td>No 2 1912 Olympian; football star at Carlisle ...</td>\n",
       "      <td>ESPNs TOP 10 ALL-TIME ATHLETES</td>\n",
       "      <td>Jim Thorpe</td>\n",
       "      <td>[No, 2, 1912, Olympian, ;, football, star, at,...</td>\n",
       "      <td>[ESPNs, TOP, 10, ALL-TIME, ATHLETES]</td>\n",
       "      <td>[Jim, Thorpe]</td>\n",
       "    </tr>\n",
       "    <tr>\n",
       "      <th>2</th>\n",
       "      <td>2021</td>\n",
       "      <td>2021</td>\n",
       "      <td>jeopardy</td>\n",
       "      <td>EVERYBODY TALKS ABOUT IT...</td>\n",
       "      <td>200</td>\n",
       "      <td>The city of Yuma in this state has a record av...</td>\n",
       "      <td>Arizona</td>\n",
       "      <td>The city of Yuma in this state has a record av...</td>\n",
       "      <td>EVERYBODY TALKS ABOUT IT</td>\n",
       "      <td>Arizona</td>\n",
       "      <td>[The, city, of, Yuma, in, this, state, ha, a, ...</td>\n",
       "      <td>[EVERYBODY, TALKS, ABOUT, IT]</td>\n",
       "      <td>[Arizona]</td>\n",
       "    </tr>\n",
       "    <tr>\n",
       "      <th>3</th>\n",
       "      <td>2021</td>\n",
       "      <td>2021</td>\n",
       "      <td>jeopardy</td>\n",
       "      <td>THE COMPANY LINE</td>\n",
       "      <td>200</td>\n",
       "      <td>In 1963, live on \"The Art Linkletter Show\", th...</td>\n",
       "      <td>McDonald's</td>\n",
       "      <td>In 1963 live on \"The Art Linkletter Show\" this...</td>\n",
       "      <td>THE COMPANY LINE</td>\n",
       "      <td>McDonalds</td>\n",
       "      <td>[In, 1963, live, on, ``, The, Art, Linkletter,...</td>\n",
       "      <td>[THE, COMPANY, LINE]</td>\n",
       "      <td>[McDonalds]</td>\n",
       "    </tr>\n",
       "    <tr>\n",
       "      <th>4</th>\n",
       "      <td>2021</td>\n",
       "      <td>2021</td>\n",
       "      <td>jeopardy</td>\n",
       "      <td>EPITAPHS &amp; TRIBUTES</td>\n",
       "      <td>200</td>\n",
       "      <td>Signer of the Dec. of Indep., framer of the Co...</td>\n",
       "      <td>John Adams</td>\n",
       "      <td>Signer of the Dec of Indep framer of the Const...</td>\n",
       "      <td>EPITAPHS  TRIBUTES</td>\n",
       "      <td>John Adams</td>\n",
       "      <td>[Signer, of, the, Dec, of, Indep, framer, of, ...</td>\n",
       "      <td>[EPITAPHS, TRIBUTES]</td>\n",
       "      <td>[John, Adams]</td>\n",
       "    </tr>\n",
       "    <tr>\n",
       "      <th>...</th>\n",
       "      <td>...</td>\n",
       "      <td>...</td>\n",
       "      <td>...</td>\n",
       "      <td>...</td>\n",
       "      <td>...</td>\n",
       "      <td>...</td>\n",
       "      <td>...</td>\n",
       "      <td>...</td>\n",
       "      <td>...</td>\n",
       "      <td>...</td>\n",
       "      <td>...</td>\n",
       "      <td>...</td>\n",
       "      <td>...</td>\n",
       "    </tr>\n",
       "    <tr>\n",
       "      <th>216924</th>\n",
       "      <td>2340</td>\n",
       "      <td>2340</td>\n",
       "      <td>double jeopardy</td>\n",
       "      <td>OFF-BROADWAY</td>\n",
       "      <td>2000</td>\n",
       "      <td>In 2006 the cast of this long-running hit emba...</td>\n",
       "      <td>Stomp</td>\n",
       "      <td>In 2006 the cast of this long-running hit emba...</td>\n",
       "      <td>OFF-BROADWAY</td>\n",
       "      <td>Stomp</td>\n",
       "      <td>[In, 2006, the, cast, of, this, long-running, ...</td>\n",
       "      <td>[OFF-BROADWAY]</td>\n",
       "      <td>[Stomp]</td>\n",
       "    </tr>\n",
       "    <tr>\n",
       "      <th>216925</th>\n",
       "      <td>2340</td>\n",
       "      <td>2340</td>\n",
       "      <td>double jeopardy</td>\n",
       "      <td>RIDDLE ME THIS</td>\n",
       "      <td>2000</td>\n",
       "      <td>This Puccini opera turns on the solution to 3 ...</td>\n",
       "      <td>Turandot</td>\n",
       "      <td>This Puccini opera turns on the solution to 3 ...</td>\n",
       "      <td>RIDDLE ME THIS</td>\n",
       "      <td>Turandot</td>\n",
       "      <td>[This, Puccini, opera, turn, on, the, solution...</td>\n",
       "      <td>[RIDDLE, ME, THIS]</td>\n",
       "      <td>[Turandot]</td>\n",
       "    </tr>\n",
       "    <tr>\n",
       "      <th>216926</th>\n",
       "      <td>2340</td>\n",
       "      <td>2340</td>\n",
       "      <td>double jeopardy</td>\n",
       "      <td>\"T\" BIRDS</td>\n",
       "      <td>2000</td>\n",
       "      <td>In North America this term is properly applied...</td>\n",
       "      <td>a titmouse</td>\n",
       "      <td>In North America this term is properly applied...</td>\n",
       "      <td>\"T\" BIRDS</td>\n",
       "      <td>a titmouse</td>\n",
       "      <td>[In, North, America, this, term, is, properly,...</td>\n",
       "      <td>[``, T, '', BIRDS]</td>\n",
       "      <td>[a, titmouse]</td>\n",
       "    </tr>\n",
       "    <tr>\n",
       "      <th>216927</th>\n",
       "      <td>2340</td>\n",
       "      <td>2340</td>\n",
       "      <td>double jeopardy</td>\n",
       "      <td>AUTHORS IN THEIR YOUTH</td>\n",
       "      <td>2000</td>\n",
       "      <td>In Penny Lane, where this \"Hellraiser\" grew up...</td>\n",
       "      <td>Clive Barker</td>\n",
       "      <td>In Penny Lane where this \"Hellraiser\" grew up ...</td>\n",
       "      <td>AUTHORS IN THEIR YOUTH</td>\n",
       "      <td>Clive Barker</td>\n",
       "      <td>[In, Penny, Lane, where, this, ``, Hellraiser,...</td>\n",
       "      <td>[AUTHORS, IN, THEIR, YOUTH]</td>\n",
       "      <td>[Clive, Barker]</td>\n",
       "    </tr>\n",
       "    <tr>\n",
       "      <th>216928</th>\n",
       "      <td>2340</td>\n",
       "      <td>2340</td>\n",
       "      <td>double jeopardy</td>\n",
       "      <td>QUOTATIONS</td>\n",
       "      <td>2000</td>\n",
       "      <td>From Ft. Sill, Okla. he made the plea, Arizona...</td>\n",
       "      <td>Geronimo</td>\n",
       "      <td>From Ft Sill Okla he made the plea Arizona is ...</td>\n",
       "      <td>QUOTATIONS</td>\n",
       "      <td>Geronimo</td>\n",
       "      <td>[From, Ft, Sill, Okla, he, made, the, plea, Ar...</td>\n",
       "      <td>[QUOTATIONS]</td>\n",
       "      <td>[Geronimo]</td>\n",
       "    </tr>\n",
       "  </tbody>\n",
       "</table>\n",
       "<p>213296 rows × 13 columns</p>\n",
       "</div>"
      ],
      "text/plain": [
       "        Show Number   Air Date            Round  \\\n",
       "0              2021       2021         jeopardy   \n",
       "1              2021       2021         jeopardy   \n",
       "2              2021       2021         jeopardy   \n",
       "3              2021       2021         jeopardy   \n",
       "4              2021       2021         jeopardy   \n",
       "...             ...        ...              ...   \n",
       "216924         2340       2340  double jeopardy   \n",
       "216925         2340       2340  double jeopardy   \n",
       "216926         2340       2340  double jeopardy   \n",
       "216927         2340       2340  double jeopardy   \n",
       "216928         2340       2340  double jeopardy   \n",
       "\n",
       "                               Category  Value  \\\n",
       "0                               HISTORY    200   \n",
       "1       ESPN's TOP 10 ALL-TIME ATHLETES    200   \n",
       "2           EVERYBODY TALKS ABOUT IT...    200   \n",
       "3                      THE COMPANY LINE    200   \n",
       "4                   EPITAPHS & TRIBUTES    200   \n",
       "...                                 ...    ...   \n",
       "216924                     OFF-BROADWAY   2000   \n",
       "216925                   RIDDLE ME THIS   2000   \n",
       "216926                        \"T\" BIRDS   2000   \n",
       "216927           AUTHORS IN THEIR YOUTH   2000   \n",
       "216928                       QUOTATIONS   2000   \n",
       "\n",
       "                                                 Question        Answer  \\\n",
       "0       For the last 8 years of his life, Galileo was ...    Copernicus   \n",
       "1       No. 2: 1912 Olympian; football star at Carlisl...    Jim Thorpe   \n",
       "2       The city of Yuma in this state has a record av...       Arizona   \n",
       "3       In 1963, live on \"The Art Linkletter Show\", th...    McDonald's   \n",
       "4       Signer of the Dec. of Indep., framer of the Co...    John Adams   \n",
       "...                                                   ...           ...   \n",
       "216924  In 2006 the cast of this long-running hit emba...         Stomp   \n",
       "216925  This Puccini opera turns on the solution to 3 ...      Turandot   \n",
       "216926  In North America this term is properly applied...    a titmouse   \n",
       "216927  In Penny Lane, where this \"Hellraiser\" grew up...  Clive Barker   \n",
       "216928  From Ft. Sill, Okla. he made the plea, Arizona...      Geronimo   \n",
       "\n",
       "                                           Question_clean  \\\n",
       "0       For the last 8 years of his life Galileo was u...   \n",
       "1       No 2 1912 Olympian; football star at Carlisle ...   \n",
       "2       The city of Yuma in this state has a record av...   \n",
       "3       In 1963 live on \"The Art Linkletter Show\" this...   \n",
       "4       Signer of the Dec of Indep framer of the Const...   \n",
       "...                                                   ...   \n",
       "216924  In 2006 the cast of this long-running hit emba...   \n",
       "216925  This Puccini opera turns on the solution to 3 ...   \n",
       "216926  In North America this term is properly applied...   \n",
       "216927  In Penny Lane where this \"Hellraiser\" grew up ...   \n",
       "216928  From Ft Sill Okla he made the plea Arizona is ...   \n",
       "\n",
       "                        Category_clean  Answer_clean  \\\n",
       "0                              HISTORY    Copernicus   \n",
       "1       ESPNs TOP 10 ALL-TIME ATHLETES    Jim Thorpe   \n",
       "2             EVERYBODY TALKS ABOUT IT       Arizona   \n",
       "3                     THE COMPANY LINE     McDonalds   \n",
       "4                   EPITAPHS  TRIBUTES    John Adams   \n",
       "...                                ...           ...   \n",
       "216924                    OFF-BROADWAY         Stomp   \n",
       "216925                  RIDDLE ME THIS      Turandot   \n",
       "216926                       \"T\" BIRDS    a titmouse   \n",
       "216927          AUTHORS IN THEIR YOUTH  Clive Barker   \n",
       "216928                      QUOTATIONS      Geronimo   \n",
       "\n",
       "                                          Question_tokens  \\\n",
       "0       [For, the, last, 8, year, of, his, life, Galil...   \n",
       "1       [No, 2, 1912, Olympian, ;, football, star, at,...   \n",
       "2       [The, city, of, Yuma, in, this, state, ha, a, ...   \n",
       "3       [In, 1963, live, on, ``, The, Art, Linkletter,...   \n",
       "4       [Signer, of, the, Dec, of, Indep, framer, of, ...   \n",
       "...                                                   ...   \n",
       "216924  [In, 2006, the, cast, of, this, long-running, ...   \n",
       "216925  [This, Puccini, opera, turn, on, the, solution...   \n",
       "216926  [In, North, America, this, term, is, properly,...   \n",
       "216927  [In, Penny, Lane, where, this, ``, Hellraiser,...   \n",
       "216928  [From, Ft, Sill, Okla, he, made, the, plea, Ar...   \n",
       "\n",
       "                             Category_tokens    Answer_tokens  \n",
       "0                                  [HISTORY]     [Copernicus]  \n",
       "1       [ESPNs, TOP, 10, ALL-TIME, ATHLETES]    [Jim, Thorpe]  \n",
       "2              [EVERYBODY, TALKS, ABOUT, IT]        [Arizona]  \n",
       "3                       [THE, COMPANY, LINE]      [McDonalds]  \n",
       "4                       [EPITAPHS, TRIBUTES]    [John, Adams]  \n",
       "...                                      ...              ...  \n",
       "216924                        [OFF-BROADWAY]          [Stomp]  \n",
       "216925                    [RIDDLE, ME, THIS]       [Turandot]  \n",
       "216926                    [``, T, '', BIRDS]    [a, titmouse]  \n",
       "216927           [AUTHORS, IN, THEIR, YOUTH]  [Clive, Barker]  \n",
       "216928                          [QUOTATIONS]       [Geronimo]  \n",
       "\n",
       "[213296 rows x 13 columns]"
      ]
     },
     "execution_count": 75,
     "metadata": {},
     "output_type": "execute_result"
    }
   ],
   "source": [
    "data2"
   ]
  },
  {
   "cell_type": "code",
   "execution_count": 76,
   "metadata": {},
   "outputs": [],
   "source": [
    "from gensim.models import Word2Vec\n"
   ]
  },
  {
   "cell_type": "code",
   "execution_count": 77,
   "metadata": {},
   "outputs": [],
   "source": [
    "data2[' Round']=data2[' Round'].str.split()\n"
   ]
  },
  {
   "cell_type": "code",
   "execution_count": 78,
   "metadata": {},
   "outputs": [
    {
     "data": {
      "text/plain": [
       "(74313, 1596040)"
      ]
     },
     "execution_count": 78,
     "metadata": {},
     "output_type": "execute_result"
    }
   ],
   "source": [
    "#vectorize the tokens by the use of word2vec from gensim\n",
    "w2v=Word2Vec()\n",
    "model = Word2Vec(min_count=1)\n",
    "model.build_vocab(data2['Question_tokens'])\n",
    "model.build_vocab(data2['Category_tokens'],update=True)\n",
    "model.build_vocab(data2['Answer_tokens'],update=True)\n",
    "model.build_vocab(data2[' Round'],update=True)\n",
    "model.train(data2['Question_tokens'], total_examples=model.corpus_count, epochs=model.epochs)\n",
    "model.train(data2['Category_tokens'], total_examples=model.corpus_count, epochs=model.epochs)\n",
    "model.train(data2['Answer_tokens'], total_examples=model.corpus_count, epochs=model.epochs)\n",
    "model.train(data2[' Round'], total_examples=model.corpus_count, epochs=model.epochs)"
   ]
  },
  {
   "cell_type": "code",
   "execution_count": 79,
   "metadata": {
    "scrolled": true
   },
   "outputs": [],
   "source": [
    "data2=data2[data2['Answer_clean']!='']\n",
    "data2=data2[data2['Category_clean']!='']\n",
    "# data2['Category_clean'][i]"
   ]
  },
  {
   "cell_type": "code",
   "execution_count": 80,
   "metadata": {},
   "outputs": [],
   "source": [
    "#As a classic ML approach (non Neural Network) accepts input of fixed size , take mean of vectors generated from word2vec\n",
    "import numpy as np\n",
    "data2['Question_vecs']=data2['Question_tokens'].apply(lambda x: np.mean(model.wv[x]))\n",
    "data2['Answer_vecs']=data2['Answer_tokens'].apply(lambda x: np.mean(model.wv[x]))\n",
    "data2['Category_vecs']=data2['Category_tokens'].apply(lambda x: np.mean(model.wv[x]))\n",
    "data2[' Round']=data2[' Round'].apply(lambda x: np.mean(model.wv[x]))\n",
    "\n"
   ]
  },
  {
   "cell_type": "code",
   "execution_count": 81,
   "metadata": {},
   "outputs": [
    {
     "data": {
      "text/plain": [
       "<matplotlib.axes._subplots.AxesSubplot at 0x25f95df7e08>"
      ]
     },
     "execution_count": 81,
     "metadata": {},
     "output_type": "execute_result"
    },
    {
     "data": {
      "image/png": "[encoded data removed]",
      "text/plain": [
       "<Figure size 432x288 with 1 Axes>"
      ]
     },
     "metadata": {
      "needs_background": "light"
     },
     "output_type": "display_data"
    }
   ],
   "source": [
    "# remove the outliers by using boxplots\n",
    "import seaborn as sns\n",
    "sns.boxplot(x=data2['Question_vecs'],showfliers=False)"
   ]
  },
  {
   "cell_type": "code",
   "execution_count": 82,
   "metadata": {},
   "outputs": [],
   "source": [
    "data2['Question_vecs']=data2['Question_vecs'][data2['Question_vecs']>-0.08][data2['Question_vecs']<0.08]"
   ]
  },
  {
   "cell_type": "code",
   "execution_count": 83,
   "metadata": {},
   "outputs": [
    {
     "data": {
      "text/plain": [
       "<matplotlib.axes._subplots.AxesSubplot at 0x25f895ec3c8>"
      ]
     },
     "execution_count": 83,
     "metadata": {},
     "output_type": "execute_result"
    },
    {
     "data": {
      "image/png": "[encoded data removed]",
      "text/plain": [
       "<Figure size 432x288 with 1 Axes>"
      ]
     },
     "metadata": {
      "needs_background": "light"
     },
     "output_type": "display_data"
    }
   ],
   "source": [
    "sns.boxplot(x=data2['Answer_vecs'],showfliers=False)"
   ]
  },
  {
   "cell_type": "code",
   "execution_count": 52,
   "metadata": {},
   "outputs": [],
   "source": [
    "data2['Answer_vecs']=data2['Answer_vecs'][data2['Answer_vecs']>-0.04][data2['Answer_vecs']<0.06]"
   ]
  },
  {
   "cell_type": "code",
   "execution_count": 84,
   "metadata": {},
   "outputs": [
    {
     "data": {
      "text/plain": [
       "<matplotlib.axes._subplots.AxesSubplot at 0x25f80072048>"
      ]
     },
     "execution_count": 84,
     "metadata": {},
     "output_type": "execute_result"
    },
    {
     "data": {
      "image/png": "[encoded data removed]",
      "text/plain": [
       "<Figure size 432x288 with 1 Axes>"
      ]
     },
     "metadata": {
      "needs_background": "light"
     },
     "output_type": "display_data"
    }
   ],
   "source": [
    "sns.boxplot(x=data2['Category_vecs'],showfliers=False)"
   ]
  },
  {
   "cell_type": "code",
   "execution_count": 85,
   "metadata": {},
   "outputs": [],
   "source": [
    "data2['Category_vecs']=data2['Category_vecs'][data2['Category_vecs']>-0.06][data2['Category_vecs']<0.15]"
   ]
  },
  {
   "cell_type": "code",
   "execution_count": 87,
   "metadata": {},
   "outputs": [
    {
     "data": {
      "text/plain": [
       "<matplotlib.axes._subplots.AxesSubplot at 0x25f802c4a48>"
      ]
     },
     "execution_count": 87,
     "metadata": {},
     "output_type": "execute_result"
    },
    {
     "data": {
      "image/png": "[encoded data removed]",
      "text/plain": [
       "<Figure size 432x288 with 1 Axes>"
      ]
     },
     "metadata": {
      "needs_background": "light"
     },
     "output_type": "display_data"
    }
   ],
   "source": [
    "sns.boxplot(x=data2[' Round'])"
   ]
  },
  {
   "cell_type": "code",
   "execution_count": 56,
   "metadata": {},
   "outputs": [],
   "source": [
    "data2[' Round']=data2[' Round'][data2[' Round']>0.028][data2[' Round']<0.038]"
   ]
  },
  {
   "cell_type": "code",
   "execution_count": 88,
   "metadata": {},
   "outputs": [
    {
     "data": {
      "text/plain": [
       "<matplotlib.axes._subplots.AxesSubplot at 0x25f8032f408>"
      ]
     },
     "execution_count": 88,
     "metadata": {},
     "output_type": "execute_result"
    },
    {
     "data": {
      "image/png": "[encoded data removed]",
      "text/plain": [
       "<Figure size 432x288 with 1 Axes>"
      ]
     },
     "metadata": {
      "needs_background": "light"
     },
     "output_type": "display_data"
    }
   ],
   "source": [
    "sns.boxplot(x=data2[' Air Date'])"
   ]
  },
  {
   "cell_type": "code",
   "execution_count": 89,
   "metadata": {},
   "outputs": [],
   "source": [
    "data3=data2[[' Round','Question_vecs', 'Answer_vecs',\n",
    "       'Category_vecs','Show Number',' Value',' Air Date']]"
   ]
  },
  {
   "cell_type": "code",
   "execution_count": 90,
   "metadata": {},
   "outputs": [
    {
     "name": "stderr",
     "output_type": "stream",
     "text": [
      "C:\\Users\\SRIKANT\\anaconda3\\lib\\site-packages\\ipykernel_launcher.py:1: SettingWithCopyWarning: \n",
      "A value is trying to be set on a copy of a slice from a DataFrame.\n",
      "Try using .loc[row_indexer,col_indexer] = value instead\n",
      "\n",
      "See the caveats in the documentation: https://pandas.pydata.org/pandas-docs/stable/user_guide/indexing.html#returning-a-view-versus-a-copy\n",
      "  \"\"\"Entry point for launching an IPython kernel.\n"
     ]
    }
   ],
   "source": [
    "data3[' Value']=data3[' Value'].astype(int)"
   ]
  },
  {
   "cell_type": "code",
   "execution_count": 91,
   "metadata": {},
   "outputs": [
    {
     "data": {
      "text/html": [
       "<div>\n",
       "<style scoped>\n",
       "    .dataframe tbody tr th:only-of-type {\n",
       "        vertical-align: middle;\n",
       "    }\n",
       "\n",
       "    .dataframe tbody tr th {\n",
       "        vertical-align: top;\n",
       "    }\n",
       "\n",
       "    .dataframe thead th {\n",
       "        text-align: right;\n",
       "    }\n",
       "</style>\n",
       "<table border=\"1\" class=\"dataframe\">\n",
       "  <thead>\n",
       "    <tr style=\"text-align: right;\">\n",
       "      <th></th>\n",
       "      <th>Round</th>\n",
       "      <th>Question_vecs</th>\n",
       "      <th>Answer_vecs</th>\n",
       "      <th>Category_vecs</th>\n",
       "      <th>Show Number</th>\n",
       "      <th>Value</th>\n",
       "      <th>Air Date</th>\n",
       "    </tr>\n",
       "  </thead>\n",
       "  <tbody>\n",
       "    <tr>\n",
       "      <th>Round</th>\n",
       "      <td>1.000000</td>\n",
       "      <td>-0.022732</td>\n",
       "      <td>-0.029239</td>\n",
       "      <td>-0.023003</td>\n",
       "      <td>0.000070</td>\n",
       "      <td>0.412122</td>\n",
       "      <td>0.000070</td>\n",
       "    </tr>\n",
       "    <tr>\n",
       "      <th>Question_vecs</th>\n",
       "      <td>-0.022732</td>\n",
       "      <td>1.000000</td>\n",
       "      <td>0.114165</td>\n",
       "      <td>0.068444</td>\n",
       "      <td>0.089967</td>\n",
       "      <td>0.015288</td>\n",
       "      <td>0.089967</td>\n",
       "    </tr>\n",
       "    <tr>\n",
       "      <th>Answer_vecs</th>\n",
       "      <td>-0.029239</td>\n",
       "      <td>0.114165</td>\n",
       "      <td>1.000000</td>\n",
       "      <td>0.022853</td>\n",
       "      <td>-0.003361</td>\n",
       "      <td>-0.019428</td>\n",
       "      <td>-0.003361</td>\n",
       "    </tr>\n",
       "    <tr>\n",
       "      <th>Category_vecs</th>\n",
       "      <td>-0.023003</td>\n",
       "      <td>0.068444</td>\n",
       "      <td>0.022853</td>\n",
       "      <td>1.000000</td>\n",
       "      <td>0.101807</td>\n",
       "      <td>0.021844</td>\n",
       "      <td>0.101807</td>\n",
       "    </tr>\n",
       "    <tr>\n",
       "      <th>Show Number</th>\n",
       "      <td>0.000070</td>\n",
       "      <td>0.089967</td>\n",
       "      <td>-0.003361</td>\n",
       "      <td>0.101807</td>\n",
       "      <td>1.000000</td>\n",
       "      <td>0.312351</td>\n",
       "      <td>1.000000</td>\n",
       "    </tr>\n",
       "    <tr>\n",
       "      <th>Value</th>\n",
       "      <td>0.412122</td>\n",
       "      <td>0.015288</td>\n",
       "      <td>-0.019428</td>\n",
       "      <td>0.021844</td>\n",
       "      <td>0.312351</td>\n",
       "      <td>1.000000</td>\n",
       "      <td>0.312351</td>\n",
       "    </tr>\n",
       "    <tr>\n",
       "      <th>Air Date</th>\n",
       "      <td>0.000070</td>\n",
       "      <td>0.089967</td>\n",
       "      <td>-0.003361</td>\n",
       "      <td>0.101807</td>\n",
       "      <td>1.000000</td>\n",
       "      <td>0.312351</td>\n",
       "      <td>1.000000</td>\n",
       "    </tr>\n",
       "  </tbody>\n",
       "</table>\n",
       "</div>"
      ],
      "text/plain": [
       "                  Round  Question_vecs  Answer_vecs  Category_vecs  \\\n",
       " Round         1.000000      -0.022732    -0.029239      -0.023003   \n",
       "Question_vecs -0.022732       1.000000     0.114165       0.068444   \n",
       "Answer_vecs   -0.029239       0.114165     1.000000       0.022853   \n",
       "Category_vecs -0.023003       0.068444     0.022853       1.000000   \n",
       "Show Number    0.000070       0.089967    -0.003361       0.101807   \n",
       " Value         0.412122       0.015288    -0.019428       0.021844   \n",
       " Air Date      0.000070       0.089967    -0.003361       0.101807   \n",
       "\n",
       "               Show Number     Value   Air Date  \n",
       " Round            0.000070  0.412122   0.000070  \n",
       "Question_vecs     0.089967  0.015288   0.089967  \n",
       "Answer_vecs      -0.003361 -0.019428  -0.003361  \n",
       "Category_vecs     0.101807  0.021844   0.101807  \n",
       "Show Number       1.000000  0.312351   1.000000  \n",
       " Value            0.312351  1.000000   0.312351  \n",
       " Air Date         1.000000  0.312351   1.000000  "
      ]
     },
     "execution_count": 91,
     "metadata": {},
     "output_type": "execute_result"
    }
   ],
   "source": [
    "data3.corr()"
   ]
  },
  {
   "cell_type": "code",
   "execution_count": 92,
   "metadata": {
    "scrolled": true
   },
   "outputs": [
    {
     "name": "stderr",
     "output_type": "stream",
     "text": [
      "C:\\Users\\SRIKANT\\anaconda3\\lib\\site-packages\\ipykernel_launcher.py:13: SettingWithCopyWarning: \n",
      "A value is trying to be set on a copy of a slice from a DataFrame.\n",
      "Try using .loc[row_indexer,col_indexer] = value instead\n",
      "\n",
      "See the caveats in the documentation: https://pandas.pydata.org/pandas-docs/stable/user_guide/indexing.html#returning-a-view-versus-a-copy\n",
      "  del sys.path[0]\n"
     ]
    }
   ],
   "source": [
    "#club the classes which are less in numbers\n",
    "def club_classes(value):\n",
    "    if value < 1000:\n",
    "        return np.round(value, -2)\n",
    "    elif value < 10000:\n",
    "        return np.round(value, -3)\n",
    "    else:\n",
    "        return np.round(value, -4)\n",
    "\n",
    "data3['ValueBins']=data3[' Value'].apply(club_classes)"
   ]
  },
  {
   "cell_type": "code",
   "execution_count": 93,
   "metadata": {},
   "outputs": [],
   "source": [
    "#removed class of 20000 ,as the count was very less\n",
    "data3=data3[data3['ValueBins']!=20000]"
   ]
  },
  {
   "cell_type": "code",
   "execution_count": 94,
   "metadata": {},
   "outputs": [
    {
     "data": {
      "text/html": [
       "<div>\n",
       "<style scoped>\n",
       "    .dataframe tbody tr th:only-of-type {\n",
       "        vertical-align: middle;\n",
       "    }\n",
       "\n",
       "    .dataframe tbody tr th {\n",
       "        vertical-align: top;\n",
       "    }\n",
       "\n",
       "    .dataframe thead th {\n",
       "        text-align: right;\n",
       "    }\n",
       "</style>\n",
       "<table border=\"1\" class=\"dataframe\">\n",
       "  <thead>\n",
       "    <tr style=\"text-align: right;\">\n",
       "      <th></th>\n",
       "      <th>Round</th>\n",
       "      <th>Question_vecs</th>\n",
       "      <th>Answer_vecs</th>\n",
       "      <th>Category_vecs</th>\n",
       "      <th>Show Number</th>\n",
       "      <th>Value</th>\n",
       "      <th>Air Date</th>\n",
       "      <th>ValueBins</th>\n",
       "    </tr>\n",
       "  </thead>\n",
       "  <tbody>\n",
       "    <tr>\n",
       "      <th>Round</th>\n",
       "      <td>1.000000</td>\n",
       "      <td>-0.022723</td>\n",
       "      <td>-0.029240</td>\n",
       "      <td>-0.022997</td>\n",
       "      <td>0.000054</td>\n",
       "      <td>0.413174</td>\n",
       "      <td>0.000054</td>\n",
       "      <td>0.411859</td>\n",
       "    </tr>\n",
       "    <tr>\n",
       "      <th>Question_vecs</th>\n",
       "      <td>-0.022723</td>\n",
       "      <td>1.000000</td>\n",
       "      <td>0.114167</td>\n",
       "      <td>0.068439</td>\n",
       "      <td>0.089983</td>\n",
       "      <td>0.015571</td>\n",
       "      <td>0.089983</td>\n",
       "      <td>0.016222</td>\n",
       "    </tr>\n",
       "    <tr>\n",
       "      <th>Answer_vecs</th>\n",
       "      <td>-0.029240</td>\n",
       "      <td>0.114167</td>\n",
       "      <td>1.000000</td>\n",
       "      <td>0.022854</td>\n",
       "      <td>-0.003363</td>\n",
       "      <td>-0.019508</td>\n",
       "      <td>-0.003363</td>\n",
       "      <td>-0.019866</td>\n",
       "    </tr>\n",
       "    <tr>\n",
       "      <th>Category_vecs</th>\n",
       "      <td>-0.022997</td>\n",
       "      <td>0.068439</td>\n",
       "      <td>0.022854</td>\n",
       "      <td>1.000000</td>\n",
       "      <td>0.101820</td>\n",
       "      <td>0.022088</td>\n",
       "      <td>0.101820</td>\n",
       "      <td>0.022427</td>\n",
       "    </tr>\n",
       "    <tr>\n",
       "      <th>Show Number</th>\n",
       "      <td>0.000054</td>\n",
       "      <td>0.089983</td>\n",
       "      <td>-0.003363</td>\n",
       "      <td>0.101820</td>\n",
       "      <td>1.000000</td>\n",
       "      <td>0.312932</td>\n",
       "      <td>1.000000</td>\n",
       "      <td>0.310491</td>\n",
       "    </tr>\n",
       "    <tr>\n",
       "      <th>Value</th>\n",
       "      <td>0.413174</td>\n",
       "      <td>0.015571</td>\n",
       "      <td>-0.019508</td>\n",
       "      <td>0.022088</td>\n",
       "      <td>0.312932</td>\n",
       "      <td>1.000000</td>\n",
       "      <td>0.312932</td>\n",
       "      <td>0.985775</td>\n",
       "    </tr>\n",
       "    <tr>\n",
       "      <th>Air Date</th>\n",
       "      <td>0.000054</td>\n",
       "      <td>0.089983</td>\n",
       "      <td>-0.003363</td>\n",
       "      <td>0.101820</td>\n",
       "      <td>1.000000</td>\n",
       "      <td>0.312932</td>\n",
       "      <td>1.000000</td>\n",
       "      <td>0.310491</td>\n",
       "    </tr>\n",
       "    <tr>\n",
       "      <th>ValueBins</th>\n",
       "      <td>0.411859</td>\n",
       "      <td>0.016222</td>\n",
       "      <td>-0.019866</td>\n",
       "      <td>0.022427</td>\n",
       "      <td>0.310491</td>\n",
       "      <td>0.985775</td>\n",
       "      <td>0.310491</td>\n",
       "      <td>1.000000</td>\n",
       "    </tr>\n",
       "  </tbody>\n",
       "</table>\n",
       "</div>"
      ],
      "text/plain": [
       "                  Round  Question_vecs  Answer_vecs  Category_vecs  \\\n",
       " Round         1.000000      -0.022723    -0.029240      -0.022997   \n",
       "Question_vecs -0.022723       1.000000     0.114167       0.068439   \n",
       "Answer_vecs   -0.029240       0.114167     1.000000       0.022854   \n",
       "Category_vecs -0.022997       0.068439     0.022854       1.000000   \n",
       "Show Number    0.000054       0.089983    -0.003363       0.101820   \n",
       " Value         0.413174       0.015571    -0.019508       0.022088   \n",
       " Air Date      0.000054       0.089983    -0.003363       0.101820   \n",
       "ValueBins      0.411859       0.016222    -0.019866       0.022427   \n",
       "\n",
       "               Show Number     Value   Air Date  ValueBins  \n",
       " Round            0.000054  0.413174   0.000054   0.411859  \n",
       "Question_vecs     0.089983  0.015571   0.089983   0.016222  \n",
       "Answer_vecs      -0.003363 -0.019508  -0.003363  -0.019866  \n",
       "Category_vecs     0.101820  0.022088   0.101820   0.022427  \n",
       "Show Number       1.000000  0.312932   1.000000   0.310491  \n",
       " Value            0.312932  1.000000   0.312932   0.985775  \n",
       " Air Date         1.000000  0.312932   1.000000   0.310491  \n",
       "ValueBins         0.310491  0.985775   0.310491   1.000000  "
      ]
     },
     "execution_count": 94,
     "metadata": {},
     "output_type": "execute_result"
    }
   ],
   "source": [
    "data3['ValueBins']=data3['ValueBins'].astype(int)\n",
    "data3.corr()"
   ]
  },
  {
   "cell_type": "code",
   "execution_count": 95,
   "metadata": {},
   "outputs": [
    {
     "data": {
      "text/plain": [
       " Round              0\n",
       "Question_vecs    4216\n",
       "Answer_vecs         0\n",
       "Category_vecs    1517\n",
       "Show Number         0\n",
       " Value              0\n",
       " Air Date           0\n",
       "ValueBins           0\n",
       "dtype: int64"
      ]
     },
     "execution_count": 95,
     "metadata": {},
     "output_type": "execute_result"
    }
   ],
   "source": [
    "data3.isna().sum()"
   ]
  },
  {
   "cell_type": "code",
   "execution_count": 96,
   "metadata": {},
   "outputs": [
    {
     "data": {
      "text/plain": [
       " Round              0\n",
       "Question_vecs    4216\n",
       "Category_vecs    1517\n",
       " Air Date           0\n",
       "dtype: int64"
      ]
     },
     "execution_count": 96,
     "metadata": {},
     "output_type": "execute_result"
    }
   ],
   "source": [
    "X=data3.drop(['Answer_vecs','Show Number','ValueBins',' Value'],axis=1)\n",
    "y=data3['ValueBins']\n",
    "X.isna().sum()"
   ]
  },
  {
   "cell_type": "code",
   "execution_count": 97,
   "metadata": {},
   "outputs": [],
   "source": [
    "X=X.dropna()\n",
    "y=y[X.index]"
   ]
  },
  {
   "cell_type": "code",
   "execution_count": 98,
   "metadata": {},
   "outputs": [
    {
     "data": {
      "text/html": [
       "<div>\n",
       "<style scoped>\n",
       "    .dataframe tbody tr th:only-of-type {\n",
       "        vertical-align: middle;\n",
       "    }\n",
       "\n",
       "    .dataframe tbody tr th {\n",
       "        vertical-align: top;\n",
       "    }\n",
       "\n",
       "    .dataframe thead th {\n",
       "        text-align: right;\n",
       "    }\n",
       "</style>\n",
       "<table border=\"1\" class=\"dataframe\">\n",
       "  <thead>\n",
       "    <tr style=\"text-align: right;\">\n",
       "      <th></th>\n",
       "      <th>Round</th>\n",
       "      <th>Question_vecs</th>\n",
       "      <th>Category_vecs</th>\n",
       "      <th>Air Date</th>\n",
       "    </tr>\n",
       "  </thead>\n",
       "  <tbody>\n",
       "    <tr>\n",
       "      <th>0</th>\n",
       "      <td>-0.023083</td>\n",
       "      <td>-0.034225</td>\n",
       "      <td>0.005912</td>\n",
       "      <td>2021</td>\n",
       "    </tr>\n",
       "    <tr>\n",
       "      <th>1</th>\n",
       "      <td>-0.023083</td>\n",
       "      <td>0.004952</td>\n",
       "      <td>0.008957</td>\n",
       "      <td>2021</td>\n",
       "    </tr>\n",
       "    <tr>\n",
       "      <th>2</th>\n",
       "      <td>-0.023083</td>\n",
       "      <td>0.015552</td>\n",
       "      <td>0.033177</td>\n",
       "      <td>2021</td>\n",
       "    </tr>\n",
       "    <tr>\n",
       "      <th>3</th>\n",
       "      <td>-0.023083</td>\n",
       "      <td>-0.016667</td>\n",
       "      <td>0.088503</td>\n",
       "      <td>2021</td>\n",
       "    </tr>\n",
       "    <tr>\n",
       "      <th>4</th>\n",
       "      <td>-0.023083</td>\n",
       "      <td>0.023409</td>\n",
       "      <td>0.002693</td>\n",
       "      <td>2021</td>\n",
       "    </tr>\n",
       "    <tr>\n",
       "      <th>...</th>\n",
       "      <td>...</td>\n",
       "      <td>...</td>\n",
       "      <td>...</td>\n",
       "      <td>...</td>\n",
       "    </tr>\n",
       "    <tr>\n",
       "      <th>216924</th>\n",
       "      <td>-0.011152</td>\n",
       "      <td>0.002344</td>\n",
       "      <td>0.001773</td>\n",
       "      <td>2340</td>\n",
       "    </tr>\n",
       "    <tr>\n",
       "      <th>216925</th>\n",
       "      <td>-0.011152</td>\n",
       "      <td>0.010102</td>\n",
       "      <td>0.029118</td>\n",
       "      <td>2340</td>\n",
       "    </tr>\n",
       "    <tr>\n",
       "      <th>216926</th>\n",
       "      <td>-0.011152</td>\n",
       "      <td>-0.007220</td>\n",
       "      <td>0.061589</td>\n",
       "      <td>2340</td>\n",
       "    </tr>\n",
       "    <tr>\n",
       "      <th>216927</th>\n",
       "      <td>-0.011152</td>\n",
       "      <td>-0.009807</td>\n",
       "      <td>0.056830</td>\n",
       "      <td>2340</td>\n",
       "    </tr>\n",
       "    <tr>\n",
       "      <th>216928</th>\n",
       "      <td>-0.011152</td>\n",
       "      <td>-0.015154</td>\n",
       "      <td>0.009832</td>\n",
       "      <td>2340</td>\n",
       "    </tr>\n",
       "  </tbody>\n",
       "</table>\n",
       "<p>207578 rows × 4 columns</p>\n",
       "</div>"
      ],
      "text/plain": [
       "           Round  Question_vecs  Category_vecs   Air Date\n",
       "0      -0.023083      -0.034225       0.005912       2021\n",
       "1      -0.023083       0.004952       0.008957       2021\n",
       "2      -0.023083       0.015552       0.033177       2021\n",
       "3      -0.023083      -0.016667       0.088503       2021\n",
       "4      -0.023083       0.023409       0.002693       2021\n",
       "...          ...            ...            ...        ...\n",
       "216924 -0.011152       0.002344       0.001773       2340\n",
       "216925 -0.011152       0.010102       0.029118       2340\n",
       "216926 -0.011152      -0.007220       0.061589       2340\n",
       "216927 -0.011152      -0.009807       0.056830       2340\n",
       "216928 -0.011152      -0.015154       0.009832       2340\n",
       "\n",
       "[207578 rows x 4 columns]"
      ]
     },
     "execution_count": 98,
     "metadata": {},
     "output_type": "execute_result"
    }
   ],
   "source": [
    "X"
   ]
  },
  {
   "cell_type": "code",
   "execution_count": 99,
   "metadata": {},
   "outputs": [],
   "source": [
    "#scaling features to the unit varience\n",
    "from sklearn.preprocessing import StandardScaler\n",
    "scaler=StandardScaler()\n",
    "scaler.fit(X)\n",
    "value_date=scaler.transform(X)\n"
   ]
  },
  {
   "cell_type": "code",
   "execution_count": 127,
   "metadata": {},
   "outputs": [
    {
     "data": {
      "text/plain": [
       "400      41060\n",
       "1000     33009\n",
       "800      31014\n",
       "200      29560\n",
       "2000     24596\n",
       "600      19867\n",
       "100       8757\n",
       "500       8745\n",
       "300       8418\n",
       "3000      1054\n",
       "4000       570\n",
       "5000       310\n",
       "700        200\n",
       "6000       135\n",
       "900        109\n",
       "7000        59\n",
       "10000       45\n",
       "8000        43\n",
       "9000        15\n",
       "0           12\n",
       "Name: ValueBins, dtype: int64"
      ]
     },
     "execution_count": 127,
     "metadata": {},
     "output_type": "execute_result"
    }
   ],
   "source": [
    "y.value_counts()"
   ]
  },
  {
   "cell_type": "code",
   "execution_count": 100,
   "metadata": {},
   "outputs": [],
   "source": [
    "#As classes is highly imbalanced, generate the synthetic data \n",
    "from imblearn.over_sampling import SMOTE\n",
    "oversample = SMOTE()\n",
    "X_s1, y_s1 = oversample.fit_resample(value_date, y)"
   ]
  },
  {
   "cell_type": "code",
   "execution_count": 101,
   "metadata": {},
   "outputs": [
    {
     "data": {
      "text/plain": [
       "500      41060\n",
       "1000     41060\n",
       "600      41060\n",
       "100      41060\n",
       "700      41060\n",
       "200      41060\n",
       "10000    41060\n",
       "800      41060\n",
       "300      41060\n",
       "9000     41060\n",
       "8000     41060\n",
       "7000     41060\n",
       "6000     41060\n",
       "900      41060\n",
       "5000     41060\n",
       "400      41060\n",
       "4000     41060\n",
       "3000     41060\n",
       "2000     41060\n",
       "0        41060\n",
       "Name: ValueBins, dtype: int64"
      ]
     },
     "execution_count": 101,
     "metadata": {},
     "output_type": "execute_result"
    }
   ],
   "source": [
    "y_s1.value_counts()"
   ]
  },
  {
   "cell_type": "code",
   "execution_count": 102,
   "metadata": {},
   "outputs": [
    {
     "data": {
      "text/plain": [
       "array([[-0.99454225, -1.13323812, -0.74714638,  0.18394012],\n",
       "       [-0.99454225,  0.21185392, -0.66936101,  0.18394012],\n",
       "       [-0.99454225,  0.57579914, -0.05073137,  0.18394012],\n",
       "       ...,\n",
       "       [ 1.0054877 , -0.20606518,  0.6749925 ,  0.48828467],\n",
       "       [ 1.0054877 , -0.29487299,  0.55343814,  0.48828467],\n",
       "       [ 1.0054877 , -0.47845508, -0.64701623,  0.48828467]])"
      ]
     },
     "execution_count": 102,
     "metadata": {},
     "output_type": "execute_result"
    }
   ],
   "source": [
    "# X=X.dropna()\n",
    "\n",
    "value_date"
   ]
  },
  {
   "cell_type": "code",
   "execution_count": 103,
   "metadata": {},
   "outputs": [],
   "source": [
    "from sklearn.model_selection import train_test_split\n",
    "X_train,X_test,y_train,y_test=train_test_split(X_s1,y_s1,test_size=0.2,random_state=4)"
   ]
  },
  {
   "cell_type": "code",
   "execution_count": 120,
   "metadata": {},
   "outputs": [
    {
     "data": {
      "text/plain": [
       "RandomForestClassifier(max_depth=80, min_samples_leaf=5, min_samples_split=12)"
      ]
     },
     "execution_count": 120,
     "metadata": {},
     "output_type": "execute_result"
    }
   ],
   "source": [
    "#build model using random forest classifier\n",
    "from sklearn.ensemble import RandomForestClassifier\n",
    "rf=RandomForestClassifier(max_depth=80,n_estimators=100,min_samples_split=12,min_samples_leaf=5)\n",
    "rf.fit(X_train,y_train)"
   ]
  },
  {
   "cell_type": "code",
   "execution_count": 114,
   "metadata": {},
   "outputs": [],
   "source": [
    "res=rf.predict(X_test)"
   ]
  },
  {
   "cell_type": "code",
   "execution_count": 121,
   "metadata": {},
   "outputs": [
    {
     "data": {
      "text/plain": [
       "array([ 400, 7000, 7000, ...,  100,  100, 4000])"
      ]
     },
     "execution_count": 121,
     "metadata": {},
     "output_type": "execute_result"
    }
   ],
   "source": [
    "res #rf=RandomForestClassifier(max_depth=80,n_estimators=100,min_samples_split=7,min_samples_leaf=5)\n"
   ]
  },
  {
   "cell_type": "code",
   "execution_count": 122,
   "metadata": {},
   "outputs": [
    {
     "data": {
      "text/plain": [
       "420089     800\n",
       "673131    7000\n",
       "696293    7000\n",
       "471479    1000\n",
       "454864     900\n",
       "          ... \n",
       "207161    2000\n",
       "136458     200\n",
       "273717     100\n",
       "137765     400\n",
       "556922    4000\n",
       "Name: ValueBins, Length: 164240, dtype: int32"
      ]
     },
     "execution_count": 122,
     "metadata": {},
     "output_type": "execute_result"
    }
   ],
   "source": [
    "y_test"
   ]
  },
  {
   "cell_type": "code",
   "execution_count": 123,
   "metadata": {},
   "outputs": [
    {
     "data": {
      "text/plain": [
       "0.8513821237213833"
      ]
     },
     "execution_count": 123,
     "metadata": {},
     "output_type": "execute_result"
    }
   ],
   "source": [
    "rf.score(X_train,y_train)"
   ]
  },
  {
   "cell_type": "code",
   "execution_count": 124,
   "metadata": {},
   "outputs": [
    {
     "data": {
      "text/plain": [
       "0.7120007306380906"
      ]
     },
     "execution_count": 124,
     "metadata": {},
     "output_type": "execute_result"
    }
   ],
   "source": [
    "rf.score(X_test,y_test)"
   ]
  },
  {
   "cell_type": "code",
   "execution_count": 126,
   "metadata": {},
   "outputs": [
    {
     "name": "stdout",
     "output_type": "stream",
     "text": [
      "              precision    recall  f1-score   support\n",
      "\n",
      "           0       0.95      1.00      0.97      8135\n",
      "         100       0.65      0.73      0.69      8128\n",
      "         200       0.34      0.22      0.27      8240\n",
      "         300       0.65      0.73      0.69      8190\n",
      "         400       0.12      0.02      0.03      8264\n",
      "         500       0.65      0.71      0.68      8162\n",
      "         600       0.40      0.65      0.49      8199\n",
      "         700       0.80      0.94      0.87      8174\n",
      "         800       0.33      0.16      0.21      8324\n",
      "         900       0.83      0.97      0.89      8292\n",
      "        1000       0.31      0.14      0.20      8294\n",
      "        2000       0.50      0.54      0.52      8258\n",
      "        3000       0.73      0.81      0.77      8203\n",
      "        4000       0.75      0.87      0.81      8097\n",
      "        5000       0.80      0.92      0.86      8039\n",
      "        6000       0.86      0.97      0.91      8192\n",
      "        7000       0.90      0.99      0.94      8247\n",
      "        8000       0.91      0.99      0.95      8414\n",
      "        9000       0.94      1.00      0.97      8268\n",
      "       10000       0.90      0.99      0.94      8120\n",
      "\n",
      "    accuracy                           0.72    164240\n",
      "   macro avg       0.67      0.72      0.68    164240\n",
      "weighted avg       0.67      0.72      0.68    164240\n",
      "\n"
     ]
    }
   ],
   "source": [
    "#classification report\n",
    "from sklearn.metrics import classification_report\n",
    "print(classification_report(y_test, res))\n"
   ]
  },
  {
   "cell_type": "code",
   "execution_count": null,
   "metadata": {},
   "outputs": [],
   "source": []
  }
 ],
 "metadata": {
  "kernelspec": {
   "display_name": "Python 3",
   "language": "python",
   "name": "python3"
  },
  "language_info": {
   "codemirror_mode": {
    "name": "ipython",
    "version": 3
   },
   "file_extension": ".py",
   "mimetype": "text/x-python",
   "name": "python",
   "nbconvert_exporter": "python",
   "pygments_lexer": "ipython3",
   "version": "3.7.6"
  }
 },
 "nbformat": 4,
 "nbformat_minor": 4
}
